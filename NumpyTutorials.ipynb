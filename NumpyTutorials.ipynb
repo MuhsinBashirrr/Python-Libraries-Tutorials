{
 "cells": [
  {
   "cell_type": "markdown",
   "id": "eea1e79b",
   "metadata": {},
   "source": [
    "# NUMPY TUTORIAL"
   ]
  },
  {
   "cell_type": "code",
   "execution_count": 2,
   "id": "5cae1ac4",
   "metadata": {},
   "outputs": [
    {
     "name": "stdout",
     "output_type": "stream",
     "text": [
      "[1 2 3]\n",
      "<class 'numpy.ndarray'>\n"
     ]
    }
   ],
   "source": [
    "import numpy as np\n",
    "x = np.array([1,2,3])\n",
    "print(x)\n",
    "print(type(x))"
   ]
  },
  {
   "cell_type": "markdown",
   "id": "92e0b8ae",
   "metadata": {},
   "source": [
    "how to create numpy array and checking the type"
   ]
  },
  {
   "cell_type": "code",
   "execution_count": 3,
   "id": "df74bc74",
   "metadata": {},
   "outputs": [
    {
     "name": "stdout",
     "output_type": "stream",
     "text": [
      "4.41 µs ± 42.7 ns per loop (mean ± std. dev. of 7 runs, 100000 loops each)\n"
     ]
    }
   ],
   "source": [
    "%timeit [j**4 for j in range(1,9)]"
   ]
  },
  {
   "cell_type": "code",
   "execution_count": 11,
   "id": "e7d83a14",
   "metadata": {},
   "outputs": [
    {
     "name": "stdout",
     "output_type": "stream",
     "text": [
      "2.96 µs ± 136 ns per loop (mean ± std. dev. of 7 runs, 100000 loops each)\n"
     ]
    }
   ],
   "source": [
    "import numpy as np\n",
    "%timeit np.arange(1,9)**4"
   ]
  },
  {
   "cell_type": "markdown",
   "id": "43aced39",
   "metadata": {},
   "source": [
    "checking the speed between lists and numpy"
   ]
  },
  {
   "cell_type": "code",
   "execution_count": 6,
   "id": "3c186617",
   "metadata": {},
   "outputs": [
    {
     "name": "stdout",
     "output_type": "stream",
     "text": [
      "[1 2 3 4]\n",
      "<class 'numpy.ndarray'>\n"
     ]
    }
   ],
   "source": [
    "import numpy as np\n",
    "x = [1,2,3,4]\n",
    "\n",
    "y = np.array(x)\n",
    "print(y)\n",
    "print(type(y))"
   ]
  },
  {
   "cell_type": "code",
   "execution_count": 7,
   "id": "2af5b8a1",
   "metadata": {},
   "outputs": [
    {
     "name": "stdout",
     "output_type": "stream",
     "text": [
      "enter the number :1\n",
      "enter the number :2\n",
      "enter the number :3\n",
      "enter the number :5\n",
      "enter the number :5\n",
      "[1 2 3 5 5]\n"
     ]
    }
   ],
   "source": [
    "l =[]\n",
    "\n",
    "for i in range(1,6):\n",
    "    \n",
    "    int_1 = int(input('enter the number :'))\n",
    "    l.append(int_1)\n",
    "    \n",
    "print(np.array(l))    "
   ]
  },
  {
   "cell_type": "markdown",
   "id": "7f890e2a",
   "metadata": {},
   "source": [
    "# Dimensions in Arrays"
   ]
  },
  {
   "cell_type": "markdown",
   "id": "e3f09ee9",
   "metadata": {},
   "source": [
    "# 1-D Arrays --- [1,2,3,4]\n",
    "\n"
   ]
  },
  {
   "cell_type": "markdown",
   "id": "ff742467",
   "metadata": {},
   "source": [
    "#  2-D Arrays ---[ [1,2,3,4] ]"
   ]
  },
  {
   "cell_type": "markdown",
   "id": "9aaba3d8",
   "metadata": {},
   "source": [
    "#  3-D Arrays --- [[[1,2,3,4]]]"
   ]
  },
  {
   "cell_type": "code",
   "execution_count": 10,
   "id": "d5c9ce74",
   "metadata": {},
   "outputs": [
    {
     "name": "stdout",
     "output_type": "stream",
     "text": [
      "[[1 2 3]]\n",
      "2\n"
     ]
    }
   ],
   "source": [
    "ar2 = np.array([[1,2,3]])\n",
    "print(ar2)\n",
    "print(ar2.ndim)"
   ]
  },
  {
   "cell_type": "markdown",
   "id": "fced451c",
   "metadata": {},
   "source": [
    "n.dim ---- for checking the dimensions"
   ]
  },
  {
   "cell_type": "code",
   "execution_count": 12,
   "id": "7f3e3622",
   "metadata": {},
   "outputs": [
    {
     "name": "stdout",
     "output_type": "stream",
     "text": [
      "[[[1 2 3]]]\n",
      "3\n"
     ]
    }
   ],
   "source": [
    "ar3 = np.array([[[1,2,3]]])\n",
    "print(ar3)\n",
    "print(ar3.ndim)"
   ]
  },
  {
   "cell_type": "markdown",
   "id": "a9be7101",
   "metadata": {},
   "source": [
    "# Arrays filled with 0's"
   ]
  },
  {
   "cell_type": "code",
   "execution_count": 14,
   "id": "539bb0df",
   "metadata": {},
   "outputs": [
    {
     "name": "stdout",
     "output_type": "stream",
     "text": [
      "[[0. 0. 0. 0.]\n",
      " [0. 0. 0. 0.]\n",
      " [0. 0. 0. 0.]]\n",
      "\n",
      "[0. 0. 0. 0.]\n"
     ]
    }
   ],
   "source": [
    "import numpy as np\n",
    "\n",
    "ar_zero = np.zeros(4)\n",
    "\n",
    "ar_zero1 = np.zeros((3,4))\n",
    "\n",
    "print(ar_zero1)\n",
    "print()\n",
    "print(ar_zero)"
   ]
  },
  {
   "cell_type": "markdown",
   "id": "1d3408af",
   "metadata": {},
   "source": [
    "# Arrays filled with 1's"
   ]
  },
  {
   "cell_type": "code",
   "execution_count": 15,
   "id": "63ef839f",
   "metadata": {},
   "outputs": [
    {
     "name": "stdout",
     "output_type": "stream",
     "text": [
      "[1. 1. 1. 1.]\n"
     ]
    }
   ],
   "source": [
    "ar = np.ones(4)\n",
    "print(ar)"
   ]
  },
  {
   "cell_type": "markdown",
   "id": "b707ab62",
   "metadata": {},
   "source": [
    "# Create an empty array"
   ]
  },
  {
   "cell_type": "code",
   "execution_count": 17,
   "id": "21abb4fa",
   "metadata": {},
   "outputs": [
    {
     "name": "stdout",
     "output_type": "stream",
     "text": [
      "[1. 1. 1. 1.]\n"
     ]
    }
   ],
   "source": [
    "ar = np.empty(4)\n",
    "print(ar)"
   ]
  },
  {
   "cell_type": "markdown",
   "id": "9491a014",
   "metadata": {},
   "source": [
    "# An array with a range of elements"
   ]
  },
  {
   "cell_type": "code",
   "execution_count": 18,
   "id": "9ba56e92",
   "metadata": {},
   "outputs": [
    {
     "name": "stdout",
     "output_type": "stream",
     "text": [
      "[0 1 2 3 4]\n"
     ]
    }
   ],
   "source": [
    "ar = np.arange(5)\n",
    "print(ar)"
   ]
  },
  {
   "cell_type": "markdown",
   "id": "9ae9841f",
   "metadata": {},
   "source": [
    "# Array diagonal element filled with 1's"
   ]
  },
  {
   "cell_type": "code",
   "execution_count": 19,
   "id": "4efabdcc",
   "metadata": {},
   "outputs": [
    {
     "name": "stdout",
     "output_type": "stream",
     "text": [
      "[[1. 0. 0.]\n",
      " [0. 1. 0.]\n",
      " [0. 0. 1.]]\n"
     ]
    }
   ],
   "source": [
    "ar= np.eye(3,3)\n",
    "print(ar)"
   ]
  },
  {
   "cell_type": "markdown",
   "id": "25bf5fa1",
   "metadata": {},
   "source": [
    "# linspace"
   ]
  },
  {
   "cell_type": "code",
   "execution_count": 20,
   "id": "ad4e1cf1",
   "metadata": {},
   "outputs": [
    {
     "name": "stdout",
     "output_type": "stream",
     "text": [
      "[ 0.  2.  4.  6.  8. 10.]\n"
     ]
    }
   ],
   "source": [
    "ar = np.linspace(0,10,num=6)\n",
    "print(ar)"
   ]
  },
  {
   "cell_type": "markdown",
   "id": "0611d487",
   "metadata": {},
   "source": [
    "# Create NumPy Arrays with Random Numbers"
   ]
  },
  {
   "cell_type": "markdown",
   "id": "40576f14",
   "metadata": {},
   "source": [
    "# rand() :   the function is used to generate a random value between 0 to 1."
   ]
  },
  {
   "cell_type": "code",
   "execution_count": 1,
   "id": "041cdc55",
   "metadata": {},
   "outputs": [
    {
     "name": "stdout",
     "output_type": "stream",
     "text": [
      "[0.32766204 0.17859158 0.41634251 0.15512281 0.359636   0.44995542]\n"
     ]
    }
   ],
   "source": [
    "import numpy as np\n",
    "\n",
    "ar = np.random.rand(6)\n",
    "print(ar)"
   ]
  },
  {
   "cell_type": "code",
   "execution_count": 2,
   "id": "e78f4014",
   "metadata": {},
   "outputs": [
    {
     "name": "stdout",
     "output_type": "stream",
     "text": [
      "[[0.07763672 0.17278224 0.50952978 0.11927982]\n",
      " [0.97802016 0.66275342 0.23364009 0.79477493]\n",
      " [0.2149018  0.93378504 0.34641823 0.26349285]]\n"
     ]
    }
   ],
   "source": [
    "ar2 = np.random.rand(3,4)\n",
    "print(ar2)"
   ]
  },
  {
   "cell_type": "markdown",
   "id": "a5195c2b",
   "metadata": {},
   "source": [
    "# randn():    the function is used to generate a random value close to zero.This may return positive or negative numbers as well."
   ]
  },
  {
   "cell_type": "code",
   "execution_count": 3,
   "id": "df3c05db",
   "metadata": {},
   "outputs": [
    {
     "name": "stdout",
     "output_type": "stream",
     "text": [
      "[ 0.69853427 -0.75477476 -1.14210786 -0.72278169]\n"
     ]
    }
   ],
   "source": [
    "ar3 = np.random.randn(4)\n",
    "print(ar3)"
   ]
  },
  {
   "cell_type": "markdown",
   "id": "41f2e6db",
   "metadata": {},
   "source": [
    "# ranf( ) : the function for doing random sampling in numpy. It returns an array of specified shape and fills it with random floats in the happen interval [0.0, 1.0)."
   ]
  },
  {
   "cell_type": "code",
   "execution_count": 4,
   "id": "8ca1b209",
   "metadata": {},
   "outputs": [
    {
     "name": "stdout",
     "output_type": "stream",
     "text": [
      "[0.1669314  0.46015752 0.7735384  0.60275559]\n"
     ]
    }
   ],
   "source": [
    "ar4 = np.random.ranf(4)\n",
    "print(ar4)"
   ]
  },
  {
   "cell_type": "markdown",
   "id": "e5ad64c0",
   "metadata": {},
   "source": [
    "# randint(min,max,total values ) : the fuction is used to generate a random number between a given range"
   ]
  },
  {
   "cell_type": "code",
   "execution_count": 8,
   "id": "11320dc6",
   "metadata": {},
   "outputs": [
    {
     "name": "stdout",
     "output_type": "stream",
     "text": [
      "[3 5 3 4]\n"
     ]
    }
   ],
   "source": [
    "ar5 = np.random.randint(1,6,4)\n",
    "\n",
    "print(ar5)"
   ]
  },
  {
   "cell_type": "code",
   "execution_count": null,
   "id": "43662855",
   "metadata": {},
   "outputs": [],
   "source": []
  }
 ],
 "metadata": {
  "kernelspec": {
   "display_name": "Python 3 (ipykernel)",
   "language": "python",
   "name": "python3"
  },
  "language_info": {
   "codemirror_mode": {
    "name": "ipython",
    "version": 3
   },
   "file_extension": ".py",
   "mimetype": "text/x-python",
   "name": "python",
   "nbconvert_exporter": "python",
   "pygments_lexer": "ipython3",
   "version": "3.9.13"
  }
 },
 "nbformat": 4,
 "nbformat_minor": 5
}
