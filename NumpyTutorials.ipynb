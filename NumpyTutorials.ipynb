{
 "cells": [
  {
   "cell_type": "markdown",
   "id": "eea1e79b",
   "metadata": {},
   "source": [
    "# NUMPY TUTORIAL"
   ]
  },
  {
   "cell_type": "code",
   "execution_count": 2,
   "id": "5cae1ac4",
   "metadata": {},
   "outputs": [
    {
     "name": "stdout",
     "output_type": "stream",
     "text": [
      "[1 2 3]\n",
      "<class 'numpy.ndarray'>\n"
     ]
    }
   ],
   "source": [
    "import numpy as np\n",
    "x = np.array([1,2,3])\n",
    "print(x)\n",
    "print(type(x))"
   ]
  },
  {
   "cell_type": "markdown",
   "id": "92e0b8ae",
   "metadata": {},
   "source": [
    "how to create numpy array and checking the type"
   ]
  },
  {
   "cell_type": "code",
   "execution_count": 3,
   "id": "df74bc74",
   "metadata": {},
   "outputs": [
    {
     "name": "stdout",
     "output_type": "stream",
     "text": [
      "4.41 µs ± 42.7 ns per loop (mean ± std. dev. of 7 runs, 100000 loops each)\n"
     ]
    }
   ],
   "source": [
    "%timeit [j**4 for j in range(1,9)]"
   ]
  },
  {
   "cell_type": "code",
   "execution_count": 11,
   "id": "e7d83a14",
   "metadata": {},
   "outputs": [
    {
     "name": "stdout",
     "output_type": "stream",
     "text": [
      "2.96 µs ± 136 ns per loop (mean ± std. dev. of 7 runs, 100000 loops each)\n"
     ]
    }
   ],
   "source": [
    "import numpy as np\n",
    "%timeit np.arange(1,9)**4"
   ]
  },
  {
   "cell_type": "markdown",
   "id": "43aced39",
   "metadata": {},
   "source": [
    "checking the speed between lists and numpy"
   ]
  },
  {
   "cell_type": "code",
   "execution_count": 6,
   "id": "3c186617",
   "metadata": {},
   "outputs": [
    {
     "name": "stdout",
     "output_type": "stream",
     "text": [
      "[1 2 3 4]\n",
      "<class 'numpy.ndarray'>\n"
     ]
    }
   ],
   "source": [
    "import numpy as np\n",
    "x = [1,2,3,4]\n",
    "\n",
    "y = np.array(x)\n",
    "print(y)\n",
    "print(type(y))"
   ]
  },
  {
   "cell_type": "code",
   "execution_count": 7,
   "id": "2af5b8a1",
   "metadata": {},
   "outputs": [
    {
     "name": "stdout",
     "output_type": "stream",
     "text": [
      "enter the number :1\n",
      "enter the number :2\n",
      "enter the number :3\n",
      "enter the number :5\n",
      "enter the number :5\n",
      "[1 2 3 5 5]\n"
     ]
    }
   ],
   "source": [
    "l =[]\n",
    "\n",
    "for i in range(1,6):\n",
    "    \n",
    "    int_1 = int(input('enter the number :'))\n",
    "    l.append(int_1)\n",
    "    \n",
    "print(np.array(l))    "
   ]
  },
  {
   "cell_type": "markdown",
   "id": "7f890e2a",
   "metadata": {},
   "source": [
    "# Dimensions in Arrays"
   ]
  },
  {
   "cell_type": "markdown",
   "id": "e3f09ee9",
   "metadata": {},
   "source": [
    "# 1-D Arrays --- [1,2,3,4]\n",
    "\n"
   ]
  },
  {
   "cell_type": "markdown",
   "id": "ff742467",
   "metadata": {},
   "source": [
    "#  2-D Arrays ---[ [1,2,3,4] ]"
   ]
  },
  {
   "cell_type": "markdown",
   "id": "9aaba3d8",
   "metadata": {},
   "source": [
    "#  3-D Arrays --- [[[1,2,3,4]]]"
   ]
  },
  {
   "cell_type": "code",
   "execution_count": 10,
   "id": "d5c9ce74",
   "metadata": {},
   "outputs": [
    {
     "name": "stdout",
     "output_type": "stream",
     "text": [
      "[[1 2 3]]\n",
      "2\n"
     ]
    }
   ],
   "source": [
    "ar2 = np.array([[1,2,3]])\n",
    "print(ar2)\n",
    "print(ar2.ndim)"
   ]
  },
  {
   "cell_type": "markdown",
   "id": "fced451c",
   "metadata": {},
   "source": [
    "n.dim ---- for checking the dimensions"
   ]
  },
  {
   "cell_type": "code",
   "execution_count": 12,
   "id": "7f3e3622",
   "metadata": {},
   "outputs": [
    {
     "name": "stdout",
     "output_type": "stream",
     "text": [
      "[[[1 2 3]]]\n",
      "3\n"
     ]
    }
   ],
   "source": [
    "ar3 = np.array([[[1,2,3]]])\n",
    "print(ar3)\n",
    "print(ar3.ndim)"
   ]
  },
  {
   "cell_type": "markdown",
   "id": "a9be7101",
   "metadata": {},
   "source": [
    "# Arrays filled with 0's"
   ]
  },
  {
   "cell_type": "code",
   "execution_count": 14,
   "id": "539bb0df",
   "metadata": {},
   "outputs": [
    {
     "name": "stdout",
     "output_type": "stream",
     "text": [
      "[[0. 0. 0. 0.]\n",
      " [0. 0. 0. 0.]\n",
      " [0. 0. 0. 0.]]\n",
      "\n",
      "[0. 0. 0. 0.]\n"
     ]
    }
   ],
   "source": [
    "import numpy as np\n",
    "\n",
    "ar_zero = np.zeros(4)\n",
    "\n",
    "ar_zero1 = np.zeros((3,4))\n",
    "\n",
    "print(ar_zero1)\n",
    "print()\n",
    "print(ar_zero)"
   ]
  },
  {
   "cell_type": "markdown",
   "id": "1d3408af",
   "metadata": {},
   "source": [
    "# Arrays filled with 1's"
   ]
  },
  {
   "cell_type": "code",
   "execution_count": 15,
   "id": "63ef839f",
   "metadata": {},
   "outputs": [
    {
     "name": "stdout",
     "output_type": "stream",
     "text": [
      "[1. 1. 1. 1.]\n"
     ]
    }
   ],
   "source": [
    "ar = np.ones(4)\n",
    "print(ar)"
   ]
  },
  {
   "cell_type": "markdown",
   "id": "b707ab62",
   "metadata": {},
   "source": [
    "# Create an empty array"
   ]
  },
  {
   "cell_type": "code",
   "execution_count": 17,
   "id": "21abb4fa",
   "metadata": {},
   "outputs": [
    {
     "name": "stdout",
     "output_type": "stream",
     "text": [
      "[1. 1. 1. 1.]\n"
     ]
    }
   ],
   "source": [
    "ar = np.empty(4)\n",
    "print(ar)"
   ]
  },
  {
   "cell_type": "markdown",
   "id": "9491a014",
   "metadata": {},
   "source": [
    "# An array with a range of elements"
   ]
  },
  {
   "cell_type": "code",
   "execution_count": 18,
   "id": "9ba56e92",
   "metadata": {},
   "outputs": [
    {
     "name": "stdout",
     "output_type": "stream",
     "text": [
      "[0 1 2 3 4]\n"
     ]
    }
   ],
   "source": [
    "ar = np.arange(5)\n",
    "print(ar)"
   ]
  },
  {
   "cell_type": "markdown",
   "id": "9ae9841f",
   "metadata": {},
   "source": [
    "# Array diagonal element filled with 1's"
   ]
  },
  {
   "cell_type": "code",
   "execution_count": 19,
   "id": "4efabdcc",
   "metadata": {},
   "outputs": [
    {
     "name": "stdout",
     "output_type": "stream",
     "text": [
      "[[1. 0. 0.]\n",
      " [0. 1. 0.]\n",
      " [0. 0. 1.]]\n"
     ]
    }
   ],
   "source": [
    "ar= np.eye(3,3)\n",
    "print(ar)"
   ]
  },
  {
   "cell_type": "markdown",
   "id": "25bf5fa1",
   "metadata": {},
   "source": [
    "# linspace"
   ]
  },
  {
   "cell_type": "code",
   "execution_count": 20,
   "id": "ad4e1cf1",
   "metadata": {},
   "outputs": [
    {
     "name": "stdout",
     "output_type": "stream",
     "text": [
      "[ 0.  2.  4.  6.  8. 10.]\n"
     ]
    }
   ],
   "source": [
    "ar = np.linspace(0,10,num=6)\n",
    "print(ar)"
   ]
  },
  {
   "cell_type": "markdown",
   "id": "0611d487",
   "metadata": {},
   "source": [
    "# Create NumPy Arrays with Random Numbers"
   ]
  },
  {
   "cell_type": "markdown",
   "id": "40576f14",
   "metadata": {},
   "source": [
    "# rand() :   the function is used to generate a random value between 0 to 1."
   ]
  },
  {
   "cell_type": "code",
   "execution_count": 1,
   "id": "041cdc55",
   "metadata": {},
   "outputs": [
    {
     "name": "stdout",
     "output_type": "stream",
     "text": [
      "[0.32766204 0.17859158 0.41634251 0.15512281 0.359636   0.44995542]\n"
     ]
    }
   ],
   "source": [
    "import numpy as np\n",
    "\n",
    "ar = np.random.rand(6)\n",
    "print(ar)"
   ]
  },
  {
   "cell_type": "code",
   "execution_count": 2,
   "id": "e78f4014",
   "metadata": {},
   "outputs": [
    {
     "name": "stdout",
     "output_type": "stream",
     "text": [
      "[[0.07763672 0.17278224 0.50952978 0.11927982]\n",
      " [0.97802016 0.66275342 0.23364009 0.79477493]\n",
      " [0.2149018  0.93378504 0.34641823 0.26349285]]\n"
     ]
    }
   ],
   "source": [
    "ar2 = np.random.rand(3,4)\n",
    "print(ar2)"
   ]
  },
  {
   "cell_type": "markdown",
   "id": "a5195c2b",
   "metadata": {},
   "source": [
    "# randn():    the function is used to generate a random value close to zero.This may return positive or negative numbers as well."
   ]
  },
  {
   "cell_type": "code",
   "execution_count": 3,
   "id": "df3c05db",
   "metadata": {},
   "outputs": [
    {
     "name": "stdout",
     "output_type": "stream",
     "text": [
      "[ 0.69853427 -0.75477476 -1.14210786 -0.72278169]\n"
     ]
    }
   ],
   "source": [
    "ar3 = np.random.randn(4)\n",
    "print(ar3)"
   ]
  },
  {
   "cell_type": "markdown",
   "id": "41f2e6db",
   "metadata": {},
   "source": [
    "# ranf( ) : the function for doing random sampling in numpy. It returns an array of specified shape and fills it with random floats in the happen interval [0.0, 1.0)."
   ]
  },
  {
   "cell_type": "code",
   "execution_count": 4,
   "id": "8ca1b209",
   "metadata": {},
   "outputs": [
    {
     "name": "stdout",
     "output_type": "stream",
     "text": [
      "[0.1669314  0.46015752 0.7735384  0.60275559]\n"
     ]
    }
   ],
   "source": [
    "ar4 = np.random.ranf(4)\n",
    "print(ar4)"
   ]
  },
  {
   "cell_type": "markdown",
   "id": "eadc2a68",
   "metadata": {},
   "source": [
    "# randint(min,max,total values ) : the fuction is used to generate a random number between a given range"
   ]
  },
  {
   "cell_type": "code",
   "execution_count": 8,
   "id": "11320dc6",
   "metadata": {},
   "outputs": [
    {
     "name": "stdout",
     "output_type": "stream",
     "text": [
      "[3 5 3 4]\n"
     ]
    }
   ],
   "source": [
    "ar5 = np.random.randint(1,6,4)\n",
    "\n",
    "print(ar5)"
   ]
  },
  {
   "cell_type": "markdown",
   "id": "1972f72f",
   "metadata": {},
   "source": [
    "# Data Types in Numpy"
   ]
  },
  {
   "cell_type": "code",
   "execution_count": 12,
   "id": "eba04e84",
   "metadata": {},
   "outputs": [
    {
     "name": "stdout",
     "output_type": "stream",
     "text": [
      "data type :  int32\n"
     ]
    }
   ],
   "source": [
    "varr = np.array([1,2,3,4])\n",
    "\n",
    "print('data type : ' ,varr.dtype)"
   ]
  },
  {
   "cell_type": "markdown",
   "id": "3e7741b1",
   "metadata": {},
   "source": [
    ".dtype used to see the data type"
   ]
  },
  {
   "cell_type": "code",
   "execution_count": 13,
   "id": "2b4ee7cc",
   "metadata": {},
   "outputs": [
    {
     "name": "stdout",
     "output_type": "stream",
     "text": [
      "data type :  float64\n"
     ]
    }
   ],
   "source": [
    "varrr = np.array([2.3,4.6,8.4])\n",
    "\n",
    "print('data type : ' ,varrr.dtype)"
   ]
  },
  {
   "cell_type": "code",
   "execution_count": 14,
   "id": "e1cacd1d",
   "metadata": {},
   "outputs": [
    {
     "name": "stdout",
     "output_type": "stream",
     "text": [
      "data type :  <U6\n"
     ]
    }
   ],
   "source": [
    "varr = np.array(['muhsin','bashir'])\n",
    "\n",
    "print('data type : ' ,varr.dtype)"
   ]
  },
  {
   "cell_type": "code",
   "execution_count": 17,
   "id": "51d88f2b",
   "metadata": {},
   "outputs": [
    {
     "name": "stdout",
     "output_type": "stream",
     "text": [
      "data type :  <U11\n"
     ]
    }
   ],
   "source": [
    "va = np.array([1,2,3,4,'muhsin'])\n",
    "\n",
    "print('data type : ' ,va.dtype)"
   ]
  },
  {
   "cell_type": "markdown",
   "id": "a51a63c8",
   "metadata": {},
   "source": [
    "# CONVERTING DATA TYPES"
   ]
  },
  {
   "cell_type": "code",
   "execution_count": 20,
   "id": "6a7bea5b",
   "metadata": {},
   "outputs": [
    {
     "name": "stdout",
     "output_type": "stream",
     "text": [
      "Data Type : int8\n"
     ]
    }
   ],
   "source": [
    "x = np.array([1,2,3,4],dtype = np.int8)\n",
    "\n",
    "print('Data Type :',x.dtype)"
   ]
  },
  {
   "cell_type": "code",
   "execution_count": 23,
   "id": "372fcfd6",
   "metadata": {},
   "outputs": [
    {
     "name": "stdout",
     "output_type": "stream",
     "text": [
      "Data Type : float32\n",
      "[1. 2. 3. 4.]\n"
     ]
    }
   ],
   "source": [
    "x1 = np.array([1,2,3,4],dtype = \"f\")\n",
    "\n",
    "print('Data Type :',x1.dtype)\n",
    "print(x1)"
   ]
  },
  {
   "cell_type": "code",
   "execution_count": 26,
   "id": "df4423f3",
   "metadata": {},
   "outputs": [
    {
     "name": "stdout",
     "output_type": "stream",
     "text": [
      "Data Type:  int32\n",
      "[2 3 4 5]\n",
      "[2. 3. 4. 5.]\n"
     ]
    }
   ],
   "source": [
    "x2 = np.array([2,3,4,5])\n",
    "\n",
    "new = np.float32(x2)\n",
    "\n",
    "print('Data Type: ',x2.dtype)\n",
    "print(x2)\n",
    "print(new)"
   ]
  },
  {
   "cell_type": "markdown",
   "id": "09297490",
   "metadata": {},
   "source": [
    "DIRECT CONVERSION WITH .astype"
   ]
  },
  {
   "cell_type": "code",
   "execution_count": 27,
   "id": "c18830b5",
   "metadata": {},
   "outputs": [
    {
     "name": "stdout",
     "output_type": "stream",
     "text": [
      "[ 4 45  6]\n",
      "[ 4. 45.  6.]\n"
     ]
    }
   ],
   "source": [
    "x4 = np.array([4,45,6])\n",
    "\n",
    "neww = x4.astype(float)\n",
    "print(x4)\n",
    "print(neww)"
   ]
  },
  {
   "cell_type": "markdown",
   "id": "be8e4977",
   "metadata": {},
   "source": [
    "# ARITHMETIC OPERATIONS IN NUMPY ARRAYS"
   ]
  },
  {
   "cell_type": "code",
   "execution_count": 28,
   "id": "492bc1df",
   "metadata": {},
   "outputs": [
    {
     "name": "stdout",
     "output_type": "stream",
     "text": [
      "[4 5 6 7]\n"
     ]
    }
   ],
   "source": [
    "var = np.array([1,2,3,4])\n",
    "\n",
    "varadd = var + 3\n",
    "\n",
    "print(varadd)"
   ]
  },
  {
   "cell_type": "code",
   "execution_count": 29,
   "id": "b9415a71",
   "metadata": {},
   "outputs": [
    {
     "name": "stdout",
     "output_type": "stream",
     "text": [
      "[-2 -1  0  1]\n"
     ]
    }
   ],
   "source": [
    "var = np.array([1,2,3,4])\n",
    "\n",
    "varadd = var - 3\n",
    "\n",
    "print(varadd)"
   ]
  },
  {
   "cell_type": "code",
   "execution_count": 30,
   "id": "29ff7f4f",
   "metadata": {},
   "outputs": [
    {
     "name": "stdout",
     "output_type": "stream",
     "text": [
      "[ 3  6  9 12]\n"
     ]
    }
   ],
   "source": [
    "var = np.array([1,2,3,4])\n",
    "\n",
    "varadd = var * 3\n",
    "\n",
    "print(varadd)"
   ]
  },
  {
   "cell_type": "code",
   "execution_count": 31,
   "id": "f4926073",
   "metadata": {},
   "outputs": [
    {
     "name": "stdout",
     "output_type": "stream",
     "text": [
      "[0.33333333 0.66666667 1.         1.33333333]\n"
     ]
    }
   ],
   "source": [
    "var = np.array([1,2,3,4])\n",
    "\n",
    "varadd = var / 3\n",
    "\n",
    "print(varadd)"
   ]
  },
  {
   "cell_type": "code",
   "execution_count": 32,
   "id": "fe8f84f0",
   "metadata": {},
   "outputs": [
    {
     "name": "stdout",
     "output_type": "stream",
     "text": [
      "[1 2 0 1]\n"
     ]
    }
   ],
   "source": [
    "var = np.array([1,2,3,4])\n",
    "\n",
    "varadd = var % 3\n",
    "\n",
    "print(varadd)"
   ]
  },
  {
   "cell_type": "code",
   "execution_count": 34,
   "id": "12c26ab1",
   "metadata": {},
   "outputs": [
    {
     "name": "stdout",
     "output_type": "stream",
     "text": [
      "[2 4 6 8]\n"
     ]
    }
   ],
   "source": [
    "varr1 = np.array([1,2,3,4])\n",
    "\n",
    "varr2 = np.array([1,2,3,4])\n",
    "\n",
    "varadd = np.add(varr1,varr2)\n",
    "\n",
    "print(varadd)"
   ]
  },
  {
   "cell_type": "code",
   "execution_count": 42,
   "id": "89fea5b9",
   "metadata": {},
   "outputs": [
    {
     "name": "stdout",
     "output_type": "stream",
     "text": [
      "[1 0 0 0]\n"
     ]
    }
   ],
   "source": [
    "varr5 = np.array([1,2,3,4])\n",
    "\n",
    "varadd = np.reciprocal(varr5)\n",
    "\n",
    "print(varadd)"
   ]
  },
  {
   "cell_type": "markdown",
   "id": "74a8dc88",
   "metadata": {},
   "source": [
    "# 2-D ARRAY"
   ]
  },
  {
   "cell_type": "code",
   "execution_count": 41,
   "id": "a1a17987",
   "metadata": {},
   "outputs": [
    {
     "name": "stdout",
     "output_type": "stream",
     "text": [
      "[[1 2 3]\n",
      " [1 2 3]]\n",
      "[[1 2 3]\n",
      " [1 2 3]]\n",
      "\n",
      "[[2 4 6]\n",
      " [2 4 6]]\n"
     ]
    }
   ],
   "source": [
    "var12 = np.array([[1,2,3],[1,2,3]])\n",
    "\n",
    "var13 = np.array([[1,2,3],[1,2,3]])\n",
    "\n",
    "varadd12 = var12 + var13\n",
    "\n",
    "print(var12)\n",
    "print(var13)\n",
    "print()\n",
    "print(varadd12)"
   ]
  },
  {
   "cell_type": "markdown",
   "id": "d8656c14",
   "metadata": {},
   "source": [
    "# Arithmetic Functions"
   ]
  },
  {
   "cell_type": "code",
   "execution_count": 52,
   "id": "f75e9f45",
   "metadata": {},
   "outputs": [
    {
     "name": "stdout",
     "output_type": "stream",
     "text": [
      "min 3 position 1\n",
      "max 8 position 5\n",
      "sqrt [2.         1.73205081 2.         2.44948974 2.64575131 2.82842712\n",
      " 2.23606798]\n"
     ]
    }
   ],
   "source": [
    "z = np.array([4,3,4,6,7,8,5])\n",
    "\n",
    "print(\"min\",np.min(z),'position',np.argmin(z))\n",
    "print('max',np.max(z),'position',np.argmax(z))\n",
    "print('sqrt',np.sqrt(z))"
   ]
  },
  {
   "cell_type": "markdown",
   "id": "a49a6f88",
   "metadata": {},
   "source": [
    ".argmin for position of the element"
   ]
  },
  {
   "cell_type": "code",
   "execution_count": 50,
   "id": "e04f4d82",
   "metadata": {},
   "outputs": [
    {
     "name": "stdout",
     "output_type": "stream",
     "text": [
      "[1 4]\n"
     ]
    }
   ],
   "source": [
    "v = np.array([[1,2,3,4],[4,5,6,7]])\n",
    "print(np.min(v,axis=1))"
   ]
  },
  {
   "cell_type": "markdown",
   "id": "b47ed81c",
   "metadata": {},
   "source": [
    "axis =0 === cloumn\n",
    "axis =1 === row\n"
   ]
  },
  {
   "cell_type": "code",
   "execution_count": 56,
   "id": "573f1097",
   "metadata": {},
   "outputs": [
    {
     "name": "stdout",
     "output_type": "stream",
     "text": [
      "sin [ 0.89399666  0.58061118 -0.30481062]\n",
      "cos [-0.44807362  0.81418097 -0.95241298]\n",
      "cumsum [ 90 210 270]\n"
     ]
    }
   ],
   "source": [
    "z1 = np.array([90,120,60])\n",
    "\n",
    "print('sin',np.sin(z1))\n",
    "print('cos',np.cos(z1))\n",
    "print('cumsum',np.cumsum(z1))\n"
   ]
  },
  {
   "cell_type": "markdown",
   "id": "4ebd16ef",
   "metadata": {},
   "source": [
    "# Shape in NumPy Arrays "
   ]
  },
  {
   "cell_type": "code",
   "execution_count": 60,
   "id": "4439ea22",
   "metadata": {},
   "outputs": [
    {
     "name": "stdout",
     "output_type": "stream",
     "text": [
      "[[[[1 2 3 4 5]]]]\n",
      "4\n",
      "(1, 1, 1, 5)\n"
     ]
    }
   ],
   "source": [
    "m = np.array([1,2,3,4,5], ndmin = 4)\n",
    "\n",
    "print(m)\n",
    "print(m.ndim)\n",
    "print(m.shape)"
   ]
  },
  {
   "cell_type": "markdown",
   "id": "b2b6b7a8",
   "metadata": {},
   "source": [
    ".ndmin ==== for giving dimensions"
   ]
  },
  {
   "cell_type": "markdown",
   "id": "2e8f1185",
   "metadata": {},
   "source": [
    "# Reshaping in NumPy Arrays"
   ]
  },
  {
   "cell_type": "code",
   "execution_count": 64,
   "id": "600c0adb",
   "metadata": {},
   "outputs": [
    {
     "name": "stdout",
     "output_type": "stream",
     "text": [
      "[[ 5  6]\n",
      " [ 7 89]\n",
      " [ 4  3]]\n",
      "2\n"
     ]
    }
   ],
   "source": [
    "vv= np.array([5,6,7,89,4,3])\n",
    "\n",
    "x= vv.reshape(3,2)\n",
    "print(x)\n",
    "print(x.ndim)"
   ]
  },
  {
   "cell_type": "code",
   "execution_count": 72,
   "id": "b99a026c",
   "metadata": {},
   "outputs": [
    {
     "name": "stdout",
     "output_type": "stream",
     "text": [
      "[[[ 5  6]\n",
      "  [ 7  9]\n",
      "  [ 4  3]]\n",
      "\n",
      " [[ 7  4]\n",
      "  [ 9 10]\n",
      "  [11 12]]]\n",
      "3\n"
     ]
    }
   ],
   "source": [
    "vvv= np.array([5,6,7,9,4,3,7,4,9,10,11,12])\n",
    "\n",
    "xv= vvv.reshape(2,3,2)\n",
    "print(xv)\n",
    "print(xv.ndim)"
   ]
  },
  {
   "cell_type": "code",
   "execution_count": 74,
   "id": "41e94fed",
   "metadata": {},
   "outputs": [
    {
     "name": "stdout",
     "output_type": "stream",
     "text": [
      "[[[ 5  6]\n",
      "  [ 7  9]\n",
      "  [ 4  3]]\n",
      "\n",
      " [[ 7  4]\n",
      "  [ 9 10]\n",
      "  [11 12]]]\n",
      "3\n",
      "\n",
      "[ 5  6  7  9  4  3  7  4  9 10 11 12]\n",
      "1\n"
     ]
    }
   ],
   "source": [
    "vvv= np.array([5,6,7,9,4,3,7,4,9,10,11,12])\n",
    "\n",
    "xv= vvv.reshape(2,3,2)\n",
    "print(xv)\n",
    "print(xv.ndim)\n",
    "print()\n",
    "h= (xv.reshape(-1))\n",
    "print(h)\n",
    "print(h.ndim)"
   ]
  },
  {
   "cell_type": "markdown",
   "id": "0f300788",
   "metadata": {},
   "source": [
    "# Broadcasting In Numpy Arrays"
   ]
  },
  {
   "cell_type": "code",
   "execution_count": 76,
   "id": "16018dcd",
   "metadata": {},
   "outputs": [
    {
     "name": "stdout",
     "output_type": "stream",
     "text": [
      "[1 2 3]\n",
      "(3,)\n",
      "(3, 1)\n",
      "[[1]\n",
      " [2]\n",
      " [3]]\n",
      "[[2 3 4]\n",
      " [3 4 5]\n",
      " [4 5 6]]\n"
     ]
    }
   ],
   "source": [
    "c = np.array([1,2,3])\n",
    "print(c)\n",
    "print(c.shape)\n",
    "\n",
    "c1 = np.array([[1],[2],[3]])\n",
    "print(c1.shape)\n",
    "print(c1)\n",
    "print(c + c1)"
   ]
  },
  {
   "cell_type": "code",
   "execution_count": 78,
   "id": "6e249d1f",
   "metadata": {},
   "outputs": [
    {
     "name": "stdout",
     "output_type": "stream",
     "text": [
      "[[2 3 4]\n",
      " [3 4 5]]\n"
     ]
    }
   ],
   "source": [
    "cv = np.array([[1],[2]])\n",
    "\n",
    "cv1 = np.array([[1,2,3],[1,2,3]])\n",
    "\n",
    "print(cv+cv1)"
   ]
  },
  {
   "cell_type": "markdown",
   "id": "e6b51e03",
   "metadata": {},
   "source": [
    "#  Indexing In NumPy Arrays"
   ]
  },
  {
   "cell_type": "code",
   "execution_count": null,
   "id": "67273946",
   "metadata": {},
   "outputs": [],
   "source": [
    "import numpy as np\n",
    "\n",
    "p = np.array([1,2,3,4])\n",
    "\n",
    "print(p[0])\n",
    "print(p[-1])\n",
    "print(p[::-1])"
   ]
  },
  {
   "cell_type": "code",
   "execution_count": 9,
   "id": "215e228c",
   "metadata": {},
   "outputs": [
    {
     "name": "stdout",
     "output_type": "stream",
     "text": [
      "[[1 2 3]\n",
      " [4 5 6]]\n",
      "3\n"
     ]
    }
   ],
   "source": [
    "pp = np.array([[1,2,3],[4,5,6]])\n",
    "\n",
    "print(pp)\n",
    "print(pp[0,2])"
   ]
  },
  {
   "cell_type": "code",
   "execution_count": 12,
   "id": "3cd98484",
   "metadata": {},
   "outputs": [
    {
     "name": "stdout",
     "output_type": "stream",
     "text": [
      "[[[1 2]\n",
      "  [6 7]]]\n",
      "7\n"
     ]
    }
   ],
   "source": [
    "ppp= np.array([[[1,2],[6,7]]])\n",
    "\n",
    "print(ppp)\n",
    "print(ppp[0,1,1])"
   ]
  },
  {
   "cell_type": "markdown",
   "id": "0fca1f1d",
   "metadata": {},
   "source": [
    "# Slicing In NumPy Arrays"
   ]
  },
  {
   "cell_type": "code",
   "execution_count": 18,
   "id": "2c43bc93",
   "metadata": {},
   "outputs": [
    {
     "name": "stdout",
     "output_type": "stream",
     "text": [
      "[1 2 3 4 5]\n"
     ]
    }
   ],
   "source": [
    "q = np.array([1,2,3,4,5,6])\n",
    "\n",
    "print(q[:5])"
   ]
  },
  {
   "cell_type": "code",
   "execution_count": 19,
   "id": "76388ba4",
   "metadata": {},
   "outputs": [
    {
     "name": "stdout",
     "output_type": "stream",
     "text": [
      "[5]\n"
     ]
    }
   ],
   "source": [
    "qq = np.array([[1,2,3],[4,5,6]])\n",
    "\n",
    "print(qq[1,1:2])"
   ]
  },
  {
   "cell_type": "code",
   "execution_count": null,
   "id": "3c3a5769",
   "metadata": {},
   "outputs": [],
   "source": []
  }
 ],
 "metadata": {
  "kernelspec": {
   "display_name": "Python 3 (ipykernel)",
   "language": "python",
   "name": "python3"
  },
  "language_info": {
   "codemirror_mode": {
    "name": "ipython",
    "version": 3
   },
   "file_extension": ".py",
   "mimetype": "text/x-python",
   "name": "python",
   "nbconvert_exporter": "python",
   "pygments_lexer": "ipython3",
   "version": "3.9.13"
  }
 },
 "nbformat": 4,
 "nbformat_minor": 5
}
